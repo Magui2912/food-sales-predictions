{
  "nbformat": 4,
  "nbformat_minor": 0,
  "metadata": {
    "colab": {
      "provenance": [],
      "include_colab_link": true
    },
    "kernelspec": {
      "name": "python3",
      "display_name": "Python 3"
    },
    "language_info": {
      "name": "python"
    }
  },
  "cells": [
    {
      "cell_type": "markdown",
      "metadata": {
        "id": "view-in-github",
        "colab_type": "text"
      },
      "source": [
        "<a href=\"https://colab.research.google.com/github/Magui2912/food-sales-predictions/blob/main/Distance_and_time_Starter_Code.ipynb\" target=\"_parent\"><img src=\"https://colab.research.google.com/assets/colab-badge.svg\" alt=\"Open In Colab\"/></a>"
      ]
    },
    {
      "cell_type": "markdown",
      "metadata": {
        "id": "FM-AQ_LY7Ec_"
      },
      "source": [
        "# Starter Code\n",
        "\n",
        "# Exploring NumPy Arrays: Distance and Time"
      ]
    },
    {
      "cell_type": "code",
      "source": [
        "from google.colab import drive\n",
        "drive.mount('/content/drive')"
      ],
      "metadata": {
        "colab": {
          "base_uri": "https://localhost:8080/"
        },
        "id": "e3EE_UaX7CYt",
        "outputId": "31f11a55-ef1a-44fe-ac5f-924e343cd86b"
      },
      "execution_count": null,
      "outputs": [
        {
          "output_type": "stream",
          "name": "stdout",
          "text": [
            "Drive already mounted at /content/drive; to attempt to forcibly remount, call drive.mount(\"/content/drive\", force_remount=True).\n"
          ]
        }
      ]
    },
    {
      "cell_type": "markdown",
      "metadata": {
        "id": "KFL-xYXw9hPp"
      },
      "source": [
        "1) Import the numpy library"
      ]
    },
    {
      "cell_type": "code",
      "metadata": {
        "id": "KfK86qGd6_sF"
      },
      "source": [
        "import numpy as np"
      ],
      "execution_count": null,
      "outputs": []
    },
    {
      "cell_type": "markdown",
      "metadata": {
        "id": "t9qEeja29wDt"
      },
      "source": [
        "2) Create a numpy array called \"distance\" that includes the following distances (in meters): 100, 200, 400, 800, 1500, 3000, 5000, 10000"
      ]
    },
    {
      "cell_type": "code",
      "metadata": {
        "id": "yffkXrYSdvpt"
      },
      "source": [
        "distance = [100, 200, 400, 800, 1500, 3000, 5000, 10000]\n",
        "\n",
        "distance_array = np.array(distance)\n"
      ],
      "execution_count": null,
      "outputs": []
    },
    {
      "cell_type": "code",
      "metadata": {
        "id": "RCNbF5yZ7Yu3"
      },
      "source": [],
      "execution_count": null,
      "outputs": []
    },
    {
      "cell_type": "markdown",
      "metadata": {
        "id": "yJJj_-PS9-84"
      },
      "source": [
        "3) Use the np.min() and np.max() functions to find the minimum and maximum distances"
      ]
    },
    {
      "cell_type": "code",
      "metadata": {
        "id": "Cm0h775W7j1I",
        "outputId": "7b6f5f4e-bb6a-4eae-bd55-1248bfeb82e4",
        "colab": {
          "base_uri": "https://localhost:8080/"
        }
      },
      "source": [
        "np.max(distance_array)\n"
      ],
      "execution_count": null,
      "outputs": [
        {
          "output_type": "execute_result",
          "data": {
            "text/plain": [
              "10000"
            ]
          },
          "metadata": {},
          "execution_count": 8
        }
      ]
    },
    {
      "cell_type": "code",
      "source": [
        "np.min(distance_array)"
      ],
      "metadata": {
        "id": "gtV9m0L4foh1",
        "outputId": "868f82db-51e6-4c1b-93f5-b863b391090c",
        "colab": {
          "base_uri": "https://localhost:8080/"
        }
      },
      "execution_count": null,
      "outputs": [
        {
          "output_type": "execute_result",
          "data": {
            "text/plain": [
              "100"
            ]
          },
          "metadata": {},
          "execution_count": 9
        }
      ]
    },
    {
      "cell_type": "markdown",
      "metadata": {
        "id": "1GKAMKM4-D4n"
      },
      "source": [
        "4) To find the average distance, use the np.mean() function"
      ]
    },
    {
      "cell_type": "code",
      "metadata": {
        "id": "eMVVUS7D7qzi",
        "outputId": "f3fb682e-5b44-4d8d-a05f-fd4417725265",
        "colab": {
          "base_uri": "https://localhost:8080/"
        }
      },
      "source": [
        "np.mean(distance_array)"
      ],
      "execution_count": null,
      "outputs": [
        {
          "output_type": "execute_result",
          "data": {
            "text/plain": [
              "2625.0"
            ]
          },
          "metadata": {},
          "execution_count": 10
        }
      ]
    },
    {
      "cell_type": "markdown",
      "metadata": {
        "id": "jrsIZDBN-Lwg"
      },
      "source": [
        "5) use the np.sum() function to find the total distance"
      ]
    },
    {
      "cell_type": "code",
      "metadata": {
        "id": "hrlC2Z8Q7vFD",
        "outputId": "4e41e452-f0de-47b7-b299-cadcd060b5c6",
        "colab": {
          "base_uri": "https://localhost:8080/"
        }
      },
      "source": [
        "np.sum(distance_array)"
      ],
      "execution_count": null,
      "outputs": [
        {
          "output_type": "execute_result",
          "data": {
            "text/plain": [
              "21000"
            ]
          },
          "metadata": {},
          "execution_count": 11
        }
      ]
    },
    {
      "cell_type": "markdown",
      "metadata": {
        "id": "TZh6JLbu-Qt_"
      },
      "source": [
        "6) Another valuable function is the np.cumsum() function which outputs the cumulative sum...notice the output will be 100, 300, 700 as it adds each new distance"
      ]
    },
    {
      "cell_type": "code",
      "metadata": {
        "id": "zE035Xl574vz",
        "outputId": "528934f6-404d-4b0d-b6be-e98d682dc23b",
        "colab": {
          "base_uri": "https://localhost:8080/"
        }
      },
      "source": [
        "np.cumsum(distance_array)"
      ],
      "execution_count": null,
      "outputs": [
        {
          "output_type": "execute_result",
          "data": {
            "text/plain": [
              "array([  100,   300,   700,  1500,  3000,  6000, 11000, 21000])"
            ]
          },
          "metadata": {},
          "execution_count": 12
        }
      ]
    },
    {
      "cell_type": "markdown",
      "metadata": {
        "id": "XlxjutTF-XSf"
      },
      "source": [
        "7) To round all of the values in an array, use np.round()"
      ]
    },
    {
      "cell_type": "code",
      "metadata": {
        "id": "hrBA_Qqt8E3V",
        "outputId": "844fe49e-d8f3-4276-ccbe-936e08a11551",
        "colab": {
          "base_uri": "https://localhost:8080/"
        }
      },
      "source": [
        "np.round(distance_array)"
      ],
      "execution_count": null,
      "outputs": [
        {
          "output_type": "execute_result",
          "data": {
            "text/plain": [
              "array([  100,   200,   400,   800,  1500,  3000,  5000, 10000])"
            ]
          },
          "metadata": {},
          "execution_count": 13
        }
      ]
    },
    {
      "cell_type": "markdown",
      "metadata": {
        "id": "-wL-9Gl0-eSo"
      },
      "source": [
        "8) Create a numpy array called time that includes the following times (in seconds):  10.62, 21.34, 48.25, 113.43, 233.96, 506.53, 866.17, 1757.45"
      ]
    },
    {
      "cell_type": "code",
      "metadata": {
        "id": "KFwp2lb88KgE"
      },
      "source": [
        "time = [10.62, 21.34, 48.25, 113.43, 233.96, 506.53, 866.17, 1757.45]\n",
        "time_array = np.array(time)"
      ],
      "execution_count": null,
      "outputs": []
    },
    {
      "cell_type": "markdown",
      "metadata": {
        "id": "MFspcIAi-kJY"
      },
      "source": [
        "9) the values in your time array correspond to olympic records for running the corresponding distances.  Perform the calculation needed to find the speed (in m/s) for each record distance.  Note that speed is distance divided by time."
      ]
    },
    {
      "cell_type": "code",
      "metadata": {
        "id": "VacJ48K3-jwq",
        "outputId": "172b9836-ce1f-4388-b686-dffc342b8b12",
        "colab": {
          "base_uri": "https://localhost:8080/"
        }
      },
      "source": [
        "speed = distance_array / time_array\n",
        "print(speed)"
      ],
      "execution_count": null,
      "outputs": [
        {
          "output_type": "stream",
          "name": "stdout",
          "text": [
            "[9.41619586 9.37207123 8.29015544 7.0528079  6.41135237 5.92265019\n",
            " 5.77253888 5.69006231]\n"
          ]
        }
      ]
    },
    {
      "cell_type": "markdown",
      "source": [],
      "metadata": {
        "id": "1_muoiVRmzAx"
      }
    },
    {
      "cell_type": "markdown",
      "metadata": {
        "id": "BRURQ2P3-oXv"
      },
      "source": [
        "10) One common problem data scientists run into is that we are given information in units that are not consistent.\n",
        "For example, we might want to compare data that is given in meters to second to data that is given in miles per hour. A cheetah is the fastest land animal which can reach speeds of 75.0 miles per hour.\n",
        "In order to compare our olympians to a cheetah, we need to be able to convert from one unit to another.\n",
        "Perform calculations to convert the olympic record speeds from meters/second into miles per hour.  Note: 1 meter = 0.00062 miles\n",
        "\n",
        "How do our olympians compare to the cheetah?\n",
        "\n",
        "(Hint: Speed in m/s multiplied by 0.00062 and multiplied by 3600 will give speed in miles per hour)"
      ]
    },
    {
      "cell_type": "code",
      "metadata": {
        "id": "8LehjzOx8YY0",
        "outputId": "a60edc15-d2cd-4957-d07f-2e509a601483",
        "colab": {
          "base_uri": "https://localhost:8080/"
        }
      },
      "source": [
        "speed_array = np.array(speed)\n",
        "speed_miles=(speed_array * 0.00062) * 3600\n",
        "speed_miles_array= np.array(speed_miles)\n",
        "print(speed_miles_array)"
      ],
      "execution_count": null,
      "outputs": [
        {
          "output_type": "stream",
          "name": "stdout",
          "text": [
            "[21.01694915 20.91846298 18.50362694 15.74186723 14.31013849 13.21935522\n",
            " 12.88430678 12.70021907]\n"
          ]
        }
      ]
    },
    {
      "cell_type": "code",
      "source": [
        "speed_miles_array > 75\n"
      ],
      "metadata": {
        "id": "C297ohmajjxx",
        "outputId": "29c6ea68-62b7-40c3-a910-ddcb11a09321",
        "colab": {
          "base_uri": "https://localhost:8080/"
        }
      },
      "execution_count": null,
      "outputs": [
        {
          "output_type": "execute_result",
          "data": {
            "text/plain": [
              "array([False, False, False, False, False, False, False, False])"
            ]
          },
          "metadata": {},
          "execution_count": 17
        }
      ]
    }
  ]
}